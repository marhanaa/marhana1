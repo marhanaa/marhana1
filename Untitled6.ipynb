{
  "nbformat": 4,
  "nbformat_minor": 0,
  "metadata": {
    "colab": {
      "name": "Untitled6.ipynb",
      "provenance": [],
      "authorship_tag": "ABX9TyMqtKrj/P+PDIDzN2Wl6HlD",
      "include_colab_link": true
    },
    "kernelspec": {
      "name": "python3",
      "display_name": "Python 3"
    },
    "language_info": {
      "name": "python"
    }
  },
  "cells": [
    {
      "cell_type": "markdown",
      "metadata": {
        "id": "view-in-github",
        "colab_type": "text"
      },
      "source": [
        "<a href=\"https://colab.research.google.com/github/marhanaa/marhana1/blob/main/Untitled6.ipynb\" target=\"_parent\"><img src=\"https://colab.research.google.com/assets/colab-badge.svg\" alt=\"Open In Colab\"/></a>"
      ]
    },
    {
      "cell_type": "code",
      "source": [
        "#membuat contoh dictionary\n",
        "biodata ={\n",
        "  'nama' : 'hana',\n",
        "  'Umur' : 19,\n",
        "  'asal' : 'topoyo',\n",
        "}\n",
        "#perulangan dictionary\n",
        "for i in biodata.items() :\n",
        "  print (i)"
      ],
      "metadata": {
        "colab": {
          "base_uri": "https://localhost:8080/"
        },
        "id": "n7ThNqyM13n_",
        "outputId": "c46367ff-067c-4c70-a2b0-c419fcb92014"
      },
      "execution_count": null,
      "outputs": [
        {
          "output_type": "stream",
          "name": "stdout",
          "text": [
            "('nama', 'hana')\n",
            "('Umur', 19)\n",
            "('asal', 'topoyo')\n"
          ]
        }
      ]
    },
    {
      "cell_type": "code",
      "source": [
        "for i in biodata :\n",
        "  print (i)"
      ],
      "metadata": {
        "colab": {
          "base_uri": "https://localhost:8080/"
        },
        "id": "OQT5WmI06CY_",
        "outputId": "1290064f-9550-4c00-f15f-45a89c74a954"
      },
      "execution_count": null,
      "outputs": [
        {
          "output_type": "stream",
          "name": "stdout",
          "text": [
            "nama\n",
            "Umur\n",
            "asal\n"
          ]
        }
      ]
    },
    {
      "cell_type": "code",
      "source": [
        "for i in biodata.values() :\n",
        "  print (i)"
      ],
      "metadata": {
        "colab": {
          "base_uri": "https://localhost:8080/"
        },
        "id": "Gb_7mdve6NxK",
        "outputId": "9d20813d-d694-481c-92cb-cb0d99f06f10"
      },
      "execution_count": null,
      "outputs": [
        {
          "output_type": "stream",
          "name": "stdout",
          "text": [
            "hana\n",
            "19\n",
            "topoyo\n"
          ]
        }
      ]
    },
    {
      "cell_type": "code",
      "source": [
        "#mengapdate dictionary\n",
        "biodata ['asal'] = 'majene'\n",
        "print (biodata)"
      ],
      "metadata": {
        "colab": {
          "base_uri": "https://localhost:8080/"
        },
        "id": "wP--4vE26d8s",
        "outputId": "e5d5573b-b7a8-4056-aa8f-b720c802b275"
      },
      "execution_count": null,
      "outputs": [
        {
          "output_type": "stream",
          "name": "stdout",
          "text": [
            "{'nama': 'hana', 'Umur': 19, 'asal': 'majene'}\n"
          ]
        }
      ]
    },
    {
      "cell_type": "code",
      "source": [
        "#menghapus dictionary\n",
        "biodata.pop ('nama')\n",
        "print (biodata)"
      ],
      "metadata": {
        "colab": {
          "base_uri": "https://localhost:8080/"
        },
        "id": "41m3hTAf605v",
        "outputId": "ea94a902-e191-4e5a-8dff-f623e5f41589"
      },
      "execution_count": null,
      "outputs": [
        {
          "output_type": "stream",
          "name": "stdout",
          "text": [
            "{'Umur': 19, 'asal': 'majene'}\n"
          ]
        }
      ]
    },
    {
      "cell_type": "code",
      "source": [
        "biodata.clear ()\n",
        "print (biodata)"
      ],
      "metadata": {
        "colab": {
          "base_uri": "https://localhost:8080/"
        },
        "id": "jBh-m-yh7GdX",
        "outputId": "eba28650-1fd3-461a-9868-be65a37810d5"
      },
      "execution_count": null,
      "outputs": [
        {
          "output_type": "stream",
          "name": "stdout",
          "text": [
            "{}\n"
          ]
        }
      ]
    },
    {
      "cell_type": "code",
      "source": [
        "#menambahkan dictionary\n",
        "biodata ['hoby'] = 'berenang'\n",
        "print (biodata)"
      ],
      "metadata": {
        "colab": {
          "base_uri": "https://localhost:8080/"
        },
        "id": "hlJhEBC67X87",
        "outputId": "06906086-bd28-448f-bdb4-d55d2f0a8f86"
      },
      "execution_count": null,
      "outputs": [
        {
          "output_type": "stream",
          "name": "stdout",
          "text": [
            "{'hoby': 'berenang'}\n"
          ]
        }
      ]
    }
  ]
}