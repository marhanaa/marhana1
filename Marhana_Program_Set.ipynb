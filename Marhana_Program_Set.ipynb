{
  "nbformat": 4,
  "nbformat_minor": 0,
  "metadata": {
    "colab": {
      "name": "Marhana Program Set",
      "provenance": [],
      "authorship_tag": "ABX9TyMg4l0ViMKm4YVqCp+WPGhG",
      "include_colab_link": true
    },
    "kernelspec": {
      "name": "python3",
      "display_name": "Python 3"
    },
    "language_info": {
      "name": "python"
    }
  },
  "cells": [
    {
      "cell_type": "markdown",
      "metadata": {
        "id": "view-in-github",
        "colab_type": "text"
      },
      "source": [
        "<a href=\"https://colab.research.google.com/github/marhanaa/marhana1/blob/main/Marhana_Program_Set.ipynb\" target=\"_parent\"><img src=\"https://colab.research.google.com/assets/colab-badge.svg\" alt=\"Open In Colab\"/></a>"
      ]
    },
    {
      "cell_type": "code",
      "execution_count": null,
      "metadata": {
        "colab": {
          "base_uri": "https://localhost:8080/"
        },
        "id": "4YENwwD3gukJ",
        "outputId": "15309e81-7616-4d3d-d1e4-7d5cb454deb2"
      },
      "outputs": [
        {
          "output_type": "stream",
          "name": "stdout",
          "text": [
            "{False, 10, 15, 'ipa', 'hana'}\n"
          ]
        }
      ],
      "source": [
        "#membuat contoh set\n",
        "nama ={\"hana\",15,False,10,\"ipa\"}\n",
        "print (nama)"
      ]
    },
    {
      "cell_type": "code",
      "source": [
        "#menampilkan perulang set\n",
        "for i in nama :\n",
        "  print (i)"
      ],
      "metadata": {
        "colab": {
          "base_uri": "https://localhost:8080/"
        },
        "id": "oFP0TEJ5hhtt",
        "outputId": "d769b03c-63a5-41c1-db16-917d38916152"
      },
      "execution_count": null,
      "outputs": [
        {
          "output_type": "stream",
          "name": "stdout",
          "text": [
            "False\n",
            "10\n",
            "15\n",
            "ipa\n",
            "hana\n"
          ]
        }
      ]
    },
    {
      "cell_type": "code",
      "source": [
        "nama = list(nama)\n",
        "i = 0\n",
        "while i < len(nama) :\n",
        "  print (nama[i])\n",
        "  i += 1"
      ],
      "metadata": {
        "colab": {
          "base_uri": "https://localhost:8080/"
        },
        "id": "b5jscWfUh556",
        "outputId": "79e8dfde-3b24-4196-ca9d-7884d23628c8"
      },
      "execution_count": null,
      "outputs": [
        {
          "output_type": "stream",
          "name": "stdout",
          "text": [
            "False\n",
            "10\n",
            "15\n",
            "ipa\n",
            "hana\n"
          ]
        }
      ]
    },
    {
      "cell_type": "code",
      "source": [
        "#mengapdate set\n",
        "nama [1] =\"laptop\"\n",
        "print (nama)"
      ],
      "metadata": {
        "colab": {
          "base_uri": "https://localhost:8080/"
        },
        "id": "hDXjMOBziX_r",
        "outputId": "5edde276-592a-4d6f-b2b8-c2bceb87fe33"
      },
      "execution_count": null,
      "outputs": [
        {
          "output_type": "stream",
          "name": "stdout",
          "text": [
            "[False, 'laptop', 15, 'ipa', 'hana']\n"
          ]
        }
      ]
    },
    {
      "cell_type": "code",
      "source": [
        "#manghapus set\n",
        "nama = set(nama)\n",
        "nama.remove (\"ipa\")\n",
        "print (nama)"
      ],
      "metadata": {
        "colab": {
          "base_uri": "https://localhost:8080/"
        },
        "id": "cF9AVCAxiybY",
        "outputId": "25738813-5d50-4dc8-dbce-18312434cc80"
      },
      "execution_count": null,
      "outputs": [
        {
          "output_type": "stream",
          "name": "stdout",
          "text": [
            "{False, 15, 'hana', 'laptop'}\n"
          ]
        }
      ]
    },
    {
      "cell_type": "code",
      "source": [
        "nama.discard (\"laptop\")\n",
        "print (nama)"
      ],
      "metadata": {
        "colab": {
          "base_uri": "https://localhost:8080/"
        },
        "id": "PF31iTEijLtv",
        "outputId": "142dd647-f42a-445a-b0d9-4e6ab6027287"
      },
      "execution_count": null,
      "outputs": [
        {
          "output_type": "stream",
          "name": "stdout",
          "text": [
            "{False, 15, 'hana'}\n"
          ]
        }
      ]
    },
    {
      "cell_type": "code",
      "source": [
        "nama.pop ()\n",
        "print (nama)"
      ],
      "metadata": {
        "colab": {
          "base_uri": "https://localhost:8080/"
        },
        "id": "r6bnEDDxjpZY",
        "outputId": "fd0be622-e962-4685-932c-9842332ecc2b"
      },
      "execution_count": null,
      "outputs": [
        {
          "output_type": "stream",
          "name": "stdout",
          "text": [
            "{15, 'hana'}\n"
          ]
        }
      ]
    },
    {
      "cell_type": "code",
      "source": [
        "nama.clear ()\n",
        "print (nama)"
      ],
      "metadata": {
        "colab": {
          "base_uri": "https://localhost:8080/"
        },
        "id": "zvCTjHNCj8En",
        "outputId": "cc9f30ef-e861-4540-9cae-a8a98df4ad72"
      },
      "execution_count": null,
      "outputs": [
        {
          "output_type": "stream",
          "name": "stdout",
          "text": [
            "set()\n"
          ]
        }
      ]
    },
    {
      "cell_type": "code",
      "source": [
        "#menambahkan set\n",
        "nama.add (\"hana\")\n",
        "print (nama)"
      ],
      "metadata": {
        "colab": {
          "base_uri": "https://localhost:8080/"
        },
        "id": "o326OLEkkL0p",
        "outputId": "b0608086-d56b-4917-cf68-d0324391aa2f"
      },
      "execution_count": null,
      "outputs": [
        {
          "output_type": "stream",
          "name": "stdout",
          "text": [
            "{'hana'}\n"
          ]
        }
      ]
    },
    {
      "cell_type": "code",
      "source": [
        "nama.update ([\"hp\",\"buku\"])\n",
        "print (nama)"
      ],
      "metadata": {
        "colab": {
          "base_uri": "https://localhost:8080/"
        },
        "id": "572AYh_dkiWQ",
        "outputId": "b656bfda-0d1e-41de-b738-d707bcb6f60b"
      },
      "execution_count": null,
      "outputs": [
        {
          "output_type": "stream",
          "name": "stdout",
          "text": [
            "{'buku', 'hp', 'hana'}\n"
          ]
        }
      ]
    }
  ]
}