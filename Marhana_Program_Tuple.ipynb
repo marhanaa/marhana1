{
  "nbformat": 4,
  "nbformat_minor": 0,
  "metadata": {
    "colab": {
      "name": "Marhana Program Tuple",
      "provenance": [],
      "collapsed_sections": [],
      "authorship_tag": "ABX9TyNaPf5yaEjD9AXe8hxKZ2pk",
      "include_colab_link": true
    },
    "kernelspec": {
      "name": "python3",
      "display_name": "Python 3"
    },
    "language_info": {
      "name": "python"
    }
  },
  "cells": [
    {
      "cell_type": "markdown",
      "metadata": {
        "id": "view-in-github",
        "colab_type": "text"
      },
      "source": [
        "<a href=\"https://colab.research.google.com/github/marhanaa/marhana1/blob/main/Marhana_Program_Tuple.ipynb\" target=\"_parent\"><img src=\"https://colab.research.google.com/assets/colab-badge.svg\" alt=\"Open In Colab\"/></a>"
      ]
    },
    {
      "cell_type": "code",
      "execution_count": null,
      "metadata": {
        "colab": {
          "base_uri": "https://localhost:8080/"
        },
        "id": "Us-vbLF_poDe",
        "outputId": "0c5f8184-86df-4170-cc16-5f5e1fe99fc1"
      },
      "outputs": [
        {
          "output_type": "stream",
          "name": "stdout",
          "text": [
            "('hijau', 'ungu', 'hitam', 'pink')\n"
          ]
        }
      ],
      "source": [
        "#membuat contoh tuple\n",
        "warna =(\"hijau\",\"ungu\",\"hitam\",\"pink\")\n",
        "print (warna)"
      ]
    },
    {
      "cell_type": "code",
      "source": [
        "#perulangan tuple\n",
        "for i in warna :\n",
        "  print (i)"
      ],
      "metadata": {
        "colab": {
          "base_uri": "https://localhost:8080/"
        },
        "id": "CCOv8Ah3qd6A",
        "outputId": "d707707c-4064-4f4d-d41e-3283b95713b0"
      },
      "execution_count": null,
      "outputs": [
        {
          "output_type": "stream",
          "name": "stdout",
          "text": [
            "hijau\n",
            "ungu\n",
            "hitam\n",
            "pink\n"
          ]
        }
      ]
    },
    {
      "cell_type": "code",
      "source": [
        "b = 0\n",
        "while b < len(warna) :\n",
        "  print (warna[b])\n",
        "  b += 1"
      ],
      "metadata": {
        "colab": {
          "base_uri": "https://localhost:8080/"
        },
        "id": "v0QEm0j_qqlB",
        "outputId": "7ccd5927-230c-4dd7-fbf2-572f96cc5bbc"
      },
      "execution_count": null,
      "outputs": [
        {
          "output_type": "stream",
          "name": "stdout",
          "text": [
            "hijau\n",
            "ungu\n",
            "hitam\n",
            "pink\n"
          ]
        }
      ]
    },
    {
      "cell_type": "code",
      "source": [
        "\n",
        "warna =list(warna)\n",
        "#mengapdate tuple\n",
        "warna [1] =\"biru\"\n",
        "print (warna)"
      ],
      "metadata": {
        "colab": {
          "base_uri": "https://localhost:8080/"
        },
        "id": "o8CdR2FhrFmC",
        "outputId": "1f3efc60-f0b4-4518-c4f4-aa7ed44f0480"
      },
      "execution_count": null,
      "outputs": [
        {
          "output_type": "stream",
          "name": "stdout",
          "text": [
            "['hijau', 'biru', 'hitam', 'pink']\n"
          ]
        }
      ]
    },
    {
      "cell_type": "code",
      "source": [
        "#menghapus tuple\n",
        "del warna [0:1]\n",
        "print (warna)"
      ],
      "metadata": {
        "colab": {
          "base_uri": "https://localhost:8080/"
        },
        "id": "qosOsrmsrk8G",
        "outputId": "4a70bc9c-7a95-452e-8c05-a25ea20da548"
      },
      "execution_count": null,
      "outputs": [
        {
          "output_type": "stream",
          "name": "stdout",
          "text": [
            "['biru', 'hitam', 'pink']\n"
          ]
        }
      ]
    },
    {
      "cell_type": "code",
      "source": [
        "warna.pop ()\n",
        "print (warna)"
      ],
      "metadata": {
        "colab": {
          "base_uri": "https://localhost:8080/"
        },
        "id": "YxEPq81Qr4ou",
        "outputId": "4eaa2159-1422-43de-ed94-2fd31613005d"
      },
      "execution_count": null,
      "outputs": [
        {
          "output_type": "stream",
          "name": "stdout",
          "text": [
            "['biru', 'hitam']\n"
          ]
        }
      ]
    },
    {
      "cell_type": "code",
      "source": [
        "warna.remove (\"hitam\")\n",
        "print (warna)"
      ],
      "metadata": {
        "colab": {
          "base_uri": "https://localhost:8080/"
        },
        "id": "E09NTUjfsAz3",
        "outputId": "63e1b2cf-57d9-4c2e-e339-b59042a940dc"
      },
      "execution_count": null,
      "outputs": [
        {
          "output_type": "stream",
          "name": "stdout",
          "text": [
            "['biru']\n"
          ]
        }
      ]
    },
    {
      "cell_type": "code",
      "source": [
        "#menambahkan tuple\n",
        "warna.append (\"merah\")\n",
        "print (warna)"
      ],
      "metadata": {
        "colab": {
          "base_uri": "https://localhost:8080/"
        },
        "id": "SDgNc7FesOwP",
        "outputId": "29fa9576-e57a-4ce3-e51c-64c19e106026"
      },
      "execution_count": null,
      "outputs": [
        {
          "output_type": "stream",
          "name": "stdout",
          "text": [
            "['biru', 'merah']\n"
          ]
        }
      ]
    },
    {
      "cell_type": "code",
      "source": [
        "warna.extend ([\"orange\",\"coklat\"])\n",
        "print (warna)"
      ],
      "metadata": {
        "colab": {
          "base_uri": "https://localhost:8080/"
        },
        "id": "gER9rzyGsg5a",
        "outputId": "cb53886e-839d-44a4-cb9e-c0fd10ec3f91"
      },
      "execution_count": null,
      "outputs": [
        {
          "output_type": "stream",
          "name": "stdout",
          "text": [
            "['biru', 'merah', 'orange', 'coklat']\n"
          ]
        }
      ]
    },
    {
      "cell_type": "code",
      "source": [
        "warna.insert (1,\"kuning\")\n",
        "print (warna)"
      ],
      "metadata": {
        "colab": {
          "base_uri": "https://localhost:8080/"
        },
        "id": "ZnWqyhTBsvsk",
        "outputId": "590ab6e5-0b6a-40b6-a22c-3ad6fcfda8da"
      },
      "execution_count": null,
      "outputs": [
        {
          "output_type": "stream",
          "name": "stdout",
          "text": [
            "['biru', 'kuning', 'merah', 'orange', 'coklat']\n"
          ]
        }
      ]
    }
  ]
}